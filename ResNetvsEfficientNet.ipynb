{
  "cells": [
    {
      "cell_type": "code",
      "id": "initial_id",
      "metadata": {
        "collapsed": true,
        "colab": {
          "base_uri": "https://localhost:8080/"
        },
        "id": "initial_id",
        "outputId": "73c5ab2b-c31a-4ad3-b6e2-146db571c4d2"
      },
      "source": [
        "!wget https://storage.googleapis.com/ztm_tf_course/food_vision/10_food_classes_10_percent.zip"
      ],
      "outputs": [
        {
          "output_type": "stream",
          "name": "stdout",
          "text": [
            "--2024-05-19 12:54:55--  https://storage.googleapis.com/ztm_tf_course/food_vision/10_food_classes_10_percent.zip\n",
            "Resolving storage.googleapis.com (storage.googleapis.com)... 142.250.101.207, 142.250.141.207, 142.251.2.207, ...\n",
            "Connecting to storage.googleapis.com (storage.googleapis.com)|142.250.101.207|:443... connected.\n",
            "HTTP request sent, awaiting response... 200 OK\n",
            "Length: 168546183 (161M) [application/zip]\n",
            "Saving to: ‘10_food_classes_10_percent.zip’\n",
            "\n",
            "10_food_classes_10_ 100%[===================>] 160.74M   106MB/s    in 1.5s    \n",
            "\n",
            "2024-05-19 12:54:56 (106 MB/s) - ‘10_food_classes_10_percent.zip’ saved [168546183/168546183]\n",
            "\n"
          ]
        }
      ],
      "execution_count": null
    },
    {
      "metadata": {
        "id": "514c5135878636bb"
      },
      "cell_type": "code",
      "source": [
        "import zipfile\n",
        "\n",
        "zip_ref = zipfile.ZipFile('10_food_classes_10_percent.zip')\n",
        "zip_ref.extractall()\n",
        "zip_ref.close()"
      ],
      "id": "514c5135878636bb",
      "outputs": [],
      "execution_count": null
    },
    {
      "metadata": {
        "colab": {
          "base_uri": "https://localhost:8080/"
        },
        "id": "7a6a80396379e6f6",
        "outputId": "45cbec0a-0119-4eaf-883b-e4a0c566ed87"
      },
      "cell_type": "code",
      "source": [
        "import os\n",
        "\n",
        "for dirpath, dirnames, filenames in os.walk('10_food_classes_10_percent'):\n",
        "    print(f\"dirpath: {dirpath} has {len(dirnames)} directory which has {len(filenames)}\")\n"
      ],
      "id": "7a6a80396379e6f6",
      "outputs": [
        {
          "output_type": "stream",
          "name": "stdout",
          "text": [
            "dirpath: 10_food_classes_10_percent has 2 directory which has 0\n",
            "dirpath: 10_food_classes_10_percent/test has 10 directory which has 0\n",
            "dirpath: 10_food_classes_10_percent/test/sushi has 0 directory which has 250\n",
            "dirpath: 10_food_classes_10_percent/test/chicken_wings has 0 directory which has 250\n",
            "dirpath: 10_food_classes_10_percent/test/grilled_salmon has 0 directory which has 250\n",
            "dirpath: 10_food_classes_10_percent/test/chicken_curry has 0 directory which has 250\n",
            "dirpath: 10_food_classes_10_percent/test/hamburger has 0 directory which has 250\n",
            "dirpath: 10_food_classes_10_percent/test/steak has 0 directory which has 250\n",
            "dirpath: 10_food_classes_10_percent/test/ice_cream has 0 directory which has 250\n",
            "dirpath: 10_food_classes_10_percent/test/fried_rice has 0 directory which has 250\n",
            "dirpath: 10_food_classes_10_percent/test/ramen has 0 directory which has 250\n",
            "dirpath: 10_food_classes_10_percent/test/pizza has 0 directory which has 250\n",
            "dirpath: 10_food_classes_10_percent/train has 10 directory which has 0\n",
            "dirpath: 10_food_classes_10_percent/train/sushi has 0 directory which has 75\n",
            "dirpath: 10_food_classes_10_percent/train/chicken_wings has 0 directory which has 75\n",
            "dirpath: 10_food_classes_10_percent/train/grilled_salmon has 0 directory which has 75\n",
            "dirpath: 10_food_classes_10_percent/train/chicken_curry has 0 directory which has 75\n",
            "dirpath: 10_food_classes_10_percent/train/hamburger has 0 directory which has 75\n",
            "dirpath: 10_food_classes_10_percent/train/steak has 0 directory which has 75\n",
            "dirpath: 10_food_classes_10_percent/train/ice_cream has 0 directory which has 75\n",
            "dirpath: 10_food_classes_10_percent/train/fried_rice has 0 directory which has 75\n",
            "dirpath: 10_food_classes_10_percent/train/ramen has 0 directory which has 75\n",
            "dirpath: 10_food_classes_10_percent/train/pizza has 0 directory which has 75\n"
          ]
        }
      ],
      "execution_count": null
    },
    {
      "metadata": {
        "ExecuteTime": {
          "end_time": "2024-04-12T16:02:14.989117Z",
          "start_time": "2024-04-12T16:01:37.018672Z"
        },
        "id": "dfa7268df0c90112"
      },
      "cell_type": "code",
      "source": [
        "from tensorflow.keras import backend as K\n",
        "\n",
        "K.clear_session()"
      ],
      "id": "dfa7268df0c90112",
      "outputs": [],
      "execution_count": null
    },
    {
      "metadata": {
        "ExecuteTime": {
          "end_time": "2024-04-12T16:02:18.265742Z",
          "start_time": "2024-04-12T16:02:14.991259Z"
        },
        "id": "11d1bb8cf71be020"
      },
      "cell_type": "code",
      "source": [
        "import tensorflow as tf\n",
        "from tensorflow.keras.preprocessing.image import ImageDataGenerator\n",
        "from tensorflow.keras.callbacks import TensorBoard\n",
        "import datetime\n",
        "import numpy as np\n",
        "import matplotlib.pyplot as plt\n",
        "import matplotlib.image as mpimg\n",
        "import random\n",
        "import pandas as pd\n",
        "import pathlib\n",
        "from tensorflow.keras.optimizers import Adam\n",
        "from tensorflow.keras import layers\n",
        "from tensorflow.keras.layers import Dense, Flatten, Conv2D, MaxPool2D, Activation, Input, Dropout\n",
        "from tensorflow.keras import Sequential\n",
        "import matplotlib.image as mpimg\n",
        "import tensorflow_hub as hub\n",
        "from tensorflow_hub import KerasLayer"
      ],
      "id": "11d1bb8cf71be020",
      "outputs": [],
      "execution_count": null
    },
    {
      "metadata": {
        "ExecuteTime": {
          "end_time": "2024-04-12T16:02:18.407063Z",
          "start_time": "2024-04-12T16:02:18.266498Z"
        },
        "colab": {
          "base_uri": "https://localhost:8080/"
        },
        "id": "f678b080bde6184e",
        "outputId": "980f7760-950b-4da0-8cfc-cd8d4f289106"
      },
      "cell_type": "code",
      "source": [
        "IMAGE_SHAPE = (224, 224)\n",
        "BATCH_SIZE = 32\n",
        "\n",
        "train_dir = \"10_food_classes_10_percent/train\"\n",
        "test_dir = \"10_food_classes_10_percent/test\"\n",
        "\n",
        "train_datagen = ImageDataGenerator(rescale=1 / 255.)\n",
        "test_datagen = ImageDataGenerator(rescale=1 / 255.)\n",
        "\n",
        "train_data = train_datagen.flow_from_directory(directory=train_dir,\n",
        "                                               batch_size=BATCH_SIZE,\n",
        "                                               target_size=IMAGE_SHAPE,\n",
        "                                               class_mode=\"categorical\",\n",
        "                                               seed=42,\n",
        "                                               shuffle=False)\n",
        "\n",
        "test_data = test_datagen.flow_from_directory(directory=test_dir,\n",
        "                                             batch_size=BATCH_SIZE,\n",
        "                                             target_size=IMAGE_SHAPE,\n",
        "                                             class_mode=\"categorical\",\n",
        "                                             seed=42, )\n",
        "\n",
        "class_names = train_data.class_indices\n",
        "class_names = list(class_names.keys())"
      ],
      "id": "f678b080bde6184e",
      "outputs": [
        {
          "output_type": "stream",
          "name": "stdout",
          "text": [
            "Found 750 images belonging to 10 classes.\n",
            "Found 2500 images belonging to 10 classes.\n"
          ]
        }
      ],
      "execution_count": null
    },
    {
      "metadata": {
        "ExecuteTime": {
          "end_time": "2024-04-12T16:02:18.409724Z",
          "start_time": "2024-04-12T16:02:18.407837Z"
        },
        "id": "fb2e84dfad9199f0"
      },
      "cell_type": "code",
      "source": [
        "def tensorboard_callback(experiment_name, dir_name='logs/fit/'):\n",
        "    log_dir = dir_name + experiment_name + datetime.datetime.now().strftime(\"%Y%m%d-%H%M%S\")\n",
        "    tensorboard_callback = TensorBoard(log_dir=log_dir, histogram_freq=1)\n",
        "    return tensorboard_callback"
      ],
      "id": "fb2e84dfad9199f0",
      "outputs": [],
      "execution_count": null
    },
    {
      "metadata": {
        "ExecuteTime": {
          "end_time": "2024-04-12T16:02:18.422280Z",
          "start_time": "2024-04-12T16:02:18.411210Z"
        },
        "id": "a4f59d7c19da7b61"
      },
      "cell_type": "code",
      "source": [
        "effiecientnet_url = \"https://tfhub.dev/tensorflow/efficientnet/b0/feature-vector/1\"\n",
        "\n",
        "resnet_url = \"https://tfhub.dev/google/imagenet/resnet_v2_50/feature_vector/4\""
      ],
      "id": "a4f59d7c19da7b61",
      "outputs": [],
      "execution_count": null
    },
    {
      "metadata": {
        "ExecuteTime": {
          "end_time": "2024-04-12T16:02:18.425014Z",
          "start_time": "2024-04-12T16:02:18.422856Z"
        },
        "id": "fda2b507c5dac0e7"
      },
      "cell_type": "code",
      "source": [
        "def create_model(model_url, num_classes=10):\n",
        "    feature_extractor_layer = KerasLayer(model_url,\n",
        "                                         trainable=False,\n",
        "                                         input_shape=IMAGE_SHAPE + (3,))\n",
        "    model = Sequential()\n",
        "\n",
        "    model.add(feature_extractor_layer)\n",
        "\n",
        "    model.add(layers.Dense(num_classes, activation=\"softmax\"))\n",
        "\n",
        "    return model"
      ],
      "id": "fda2b507c5dac0e7",
      "outputs": [],
      "execution_count": null
    },
    {
      "metadata": {
        "ExecuteTime": {
          "end_time": "2024-04-12T16:02:19.360938Z",
          "start_time": "2024-04-12T16:02:18.425529Z"
        },
        "id": "b83087d46e5712f5"
      },
      "cell_type": "code",
      "source": [
        "ResNet_Model = create_model(resnet_url,\n",
        "                            num_classes=train_data.num_classes)"
      ],
      "id": "b83087d46e5712f5",
      "outputs": [],
      "execution_count": null
    },
    {
      "metadata": {
        "id": "95d7d2c05cd32cfe"
      },
      "cell_type": "code",
      "source": [
        "ResNet_Model.compile(optimizer='adam', loss='categorical_crossentropy', metrics=['accuracy'])"
      ],
      "id": "95d7d2c05cd32cfe",
      "outputs": [],
      "execution_count": null
    },
    {
      "metadata": {
        "colab": {
          "base_uri": "https://localhost:8080/"
        },
        "id": "d3ca5808ae860ff7",
        "outputId": "6b4b74f6-e1b4-4902-d9e3-e751c74ec031"
      },
      "cell_type": "code",
      "source": [
        "ResNet_Model.summary()"
      ],
      "id": "d3ca5808ae860ff7",
      "outputs": [
        {
          "output_type": "stream",
          "name": "stdout",
          "text": [
            "Model: \"sequential\"\n",
            "_________________________________________________________________\n",
            " Layer (type)                Output Shape              Param #   \n",
            "=================================================================\n",
            " keras_layer (KerasLayer)    (None, 2048)              23564800  \n",
            "                                                                 \n",
            " dense (Dense)               (None, 10)                20490     \n",
            "                                                                 \n",
            "=================================================================\n",
            "Total params: 23585290 (89.97 MB)\n",
            "Trainable params: 20490 (80.04 KB)\n",
            "Non-trainable params: 23564800 (89.89 MB)\n",
            "_________________________________________________________________\n"
          ]
        }
      ],
      "execution_count": null
    },
    {
      "cell_type": "code",
      "source": [
        "history_resnet_model = ResNet_Model.fit(train_data,\n",
        "                                        epochs=10,\n",
        "                                        steps_per_epoch=len(train_data),\n",
        "                                        validation_data=test_data,\n",
        "                                        validation_steps=len(test_data),\n",
        "                                        callbacks=[tensorboard_callback(\"History_ResNet_Model\")])"
      ],
      "metadata": {
        "colab": {
          "base_uri": "https://localhost:8080/"
        },
        "id": "LHADzWIUE_4L",
        "outputId": "b942dfe2-6bbc-4b8b-c99f-02f828d8dfef"
      },
      "id": "LHADzWIUE_4L",
      "execution_count": null,
      "outputs": [
        {
          "output_type": "stream",
          "name": "stdout",
          "text": [
            "Epoch 1/10\n",
            "24/24 [==============================] - 34s 885ms/step - loss: 3.8250 - accuracy: 0.0520 - val_loss: 2.1784 - val_accuracy: 0.2656\n",
            "Epoch 2/10\n",
            "24/24 [==============================] - 17s 748ms/step - loss: 2.1504 - accuracy: 0.2680 - val_loss: 1.4914 - val_accuracy: 0.5164\n",
            "Epoch 3/10\n",
            "24/24 [==============================] - 18s 765ms/step - loss: 1.5063 - accuracy: 0.5387 - val_loss: 1.1689 - val_accuracy: 0.6396\n",
            "Epoch 4/10\n",
            "24/24 [==============================] - 18s 754ms/step - loss: 1.1211 - accuracy: 0.6373 - val_loss: 0.9917 - val_accuracy: 0.7000\n",
            "Epoch 5/10\n",
            "24/24 [==============================] - 19s 827ms/step - loss: 0.8840 - accuracy: 0.7427 - val_loss: 0.9068 - val_accuracy: 0.7272\n",
            "Epoch 6/10\n",
            "24/24 [==============================] - 17s 721ms/step - loss: 0.7965 - accuracy: 0.7547 - val_loss: 0.8204 - val_accuracy: 0.7496\n",
            "Epoch 7/10\n",
            "24/24 [==============================] - 18s 771ms/step - loss: 0.6634 - accuracy: 0.8080 - val_loss: 0.7751 - val_accuracy: 0.7652\n",
            "Epoch 8/10\n",
            "24/24 [==============================] - 19s 828ms/step - loss: 0.6212 - accuracy: 0.8253 - val_loss: 0.7536 - val_accuracy: 0.7684\n",
            "Epoch 9/10\n",
            "24/24 [==============================] - 18s 776ms/step - loss: 0.5716 - accuracy: 0.8360 - val_loss: 0.7310 - val_accuracy: 0.7692\n",
            "Epoch 10/10\n",
            "24/24 [==============================] - 20s 856ms/step - loss: 0.5205 - accuracy: 0.8547 - val_loss: 0.7047 - val_accuracy: 0.7692\n"
          ]
        }
      ]
    },
    {
      "cell_type": "code",
      "source": [
        "def preprocessing(filename, img_shape=224):\n",
        "    # Read the image file\n",
        "    img = tf.io.read_file(filename)\n",
        "    # Decode the image; ensure it's converted to three channels (for RGB)\n",
        "    img = tf.image.decode_jpeg(img, channels=3)\n",
        "    # Resize the image to the target shape\n",
        "    img = tf.image.resize(img, size=[img_shape, img_shape])\n",
        "    # Normalize the image to the [0, 1] range\n",
        "    img = img / 255.\n",
        "    return img\n"
      ],
      "metadata": {
        "id": "1nrGw18RGfWk"
      },
      "id": "1nrGw18RGfWk",
      "execution_count": null,
      "outputs": []
    },
    {
      "metadata": {
        "ExecuteTime": {
          "end_time": "2024-04-12T16:02:19.360938Z",
          "start_time": "2024-04-12T16:02:18.425529Z"
        },
        "id": "1qysFmUEN6sp"
      },
      "cell_type": "code",
      "source": [
        "EffiecientNet_Model = create_model(effiecientnet_url,\n",
        "                            num_classes=train_data.num_classes)"
      ],
      "outputs": [],
      "execution_count": null,
      "id": "1qysFmUEN6sp"
    },
    {
      "metadata": {
        "id": "6lmM81PJN6sr"
      },
      "cell_type": "code",
      "source": [
        "EffiecientNet_Model.compile(optimizer='adam', loss='categorical_crossentropy', metrics=['accuracy'])"
      ],
      "outputs": [],
      "execution_count": null,
      "id": "6lmM81PJN6sr"
    },
    {
      "metadata": {
        "colab": {
          "base_uri": "https://localhost:8080/"
        },
        "outputId": "cd946a5b-761b-4238-951d-246eb4f28da1",
        "id": "kpOlGI32OFQd"
      },
      "cell_type": "code",
      "source": [
        "EffiecientNet_Model.summary()"
      ],
      "outputs": [
        {
          "output_type": "stream",
          "name": "stdout",
          "text": [
            "Model: \"sequential\"\n",
            "_________________________________________________________________\n",
            " Layer (type)                Output Shape              Param #   \n",
            "=================================================================\n",
            " keras_layer (KerasLayer)    (None, 1280)              4049564   \n",
            "                                                                 \n",
            " dense (Dense)               (None, 10)                12810     \n",
            "                                                                 \n",
            "=================================================================\n",
            "Total params: 4062374 (15.50 MB)\n",
            "Trainable params: 12810 (50.04 KB)\n",
            "Non-trainable params: 4049564 (15.45 MB)\n",
            "_________________________________________________________________\n"
          ]
        }
      ],
      "execution_count": null,
      "id": "kpOlGI32OFQd"
    },
    {
      "cell_type": "code",
      "source": [
        "history_effiecientnet_model = EffiecientNet_Model.fit(train_data,\n",
        "                                        epochs=10,\n",
        "                                        steps_per_epoch=len(train_data),\n",
        "                                        validation_data=test_data,\n",
        "                                        validation_steps=len(test_data),\n",
        "                                        callbacks=[tensorboard_callback(\"History_EffiecientNet_Model\")])"
      ],
      "metadata": {
        "colab": {
          "base_uri": "https://localhost:8080/"
        },
        "outputId": "c9a60d73-9e88-4ba8-c2e3-1a90d452010a",
        "id": "uDa3UCpDOFQp"
      },
      "execution_count": null,
      "outputs": [
        {
          "output_type": "stream",
          "name": "stdout",
          "text": [
            "Epoch 1/10\n",
            "24/24 [==============================] - 26s 679ms/step - loss: 2.4605 - accuracy: 0.1587 - val_loss: 1.9123 - val_accuracy: 0.4152\n",
            "Epoch 2/10\n",
            "24/24 [==============================] - 15s 644ms/step - loss: 1.6975 - accuracy: 0.4680 - val_loss: 1.3701 - val_accuracy: 0.6780\n",
            "Epoch 3/10\n",
            "24/24 [==============================] - 14s 604ms/step - loss: 1.2560 - accuracy: 0.7027 - val_loss: 1.0801 - val_accuracy: 0.7676\n",
            "Epoch 4/10\n",
            "24/24 [==============================] - 13s 542ms/step - loss: 1.0082 - accuracy: 0.7853 - val_loss: 0.9070 - val_accuracy: 0.8060\n",
            "Epoch 5/10\n",
            "24/24 [==============================] - 12s 531ms/step - loss: 0.8791 - accuracy: 0.8067 - val_loss: 0.7963 - val_accuracy: 0.8280\n",
            "Epoch 6/10\n",
            "24/24 [==============================] - 13s 562ms/step - loss: 0.7209 - accuracy: 0.8547 - val_loss: 0.7227 - val_accuracy: 0.8436\n",
            "Epoch 7/10\n",
            "24/24 [==============================] - 13s 541ms/step - loss: 0.6646 - accuracy: 0.8640 - val_loss: 0.6675 - val_accuracy: 0.8500\n",
            "Epoch 8/10\n",
            "24/24 [==============================] - 13s 552ms/step - loss: 0.5907 - accuracy: 0.8787 - val_loss: 0.6286 - val_accuracy: 0.8508\n",
            "Epoch 9/10\n",
            "24/24 [==============================] - 13s 558ms/step - loss: 0.5609 - accuracy: 0.8720 - val_loss: 0.5988 - val_accuracy: 0.8548\n",
            "Epoch 10/10\n",
            "24/24 [==============================] - 12s 533ms/step - loss: 0.4975 - accuracy: 0.9027 - val_loss: 0.5738 - val_accuracy: 0.8592\n"
          ]
        }
      ],
      "id": "uDa3UCpDOFQp"
    },
    {
      "cell_type": "code",
      "source": [
        "# Assume 'ResNet_Model' is your trained model and 'class_names' is already defined\n",
        "preprocessed_img = preprocessing(\"IMG_9559.jpeg\")\n",
        "\n",
        "# Expand dimensions to create a batch of a single image\n",
        "img_batch = tf.expand_dims(preprocessed_img, axis=0)\n",
        "\n",
        "# Make predictions\n",
        "pred = EffiecientNet_Model.predict(img_batch)\n",
        "\n",
        "# Get the class index with the highest probability\n",
        "predicted_class_index = tf.argmax(pred[0])\n",
        "\n",
        "# Retrieve the class name using the index\n",
        "predicted_class_name = class_names[predicted_class_index]\n",
        "print(f\"Predicted class: {predicted_class_name}\")\n"
      ],
      "metadata": {
        "colab": {
          "base_uri": "https://localhost:8080/"
        },
        "id": "mbqXCEaUOWIY",
        "outputId": "4452e394-849c-4388-e84d-11995580fa01"
      },
      "id": "mbqXCEaUOWIY",
      "execution_count": null,
      "outputs": [
        {
          "output_type": "stream",
          "name": "stdout",
          "text": [
            "1/1 [==============================] - 0s 25ms/step\n",
            "Predicted class: fried_rice\n"
          ]
        }
      ]
    },
    {
      "cell_type": "code",
      "source": [],
      "metadata": {
        "id": "Zncm5Qjh9Qia"
      },
      "id": "Zncm5Qjh9Qia",
      "execution_count": null,
      "outputs": []
    }
  ],
  "metadata": {
    "kernelspec": {
      "display_name": "Python 3",
      "name": "python3"
    },
    "language_info": {
      "codemirror_mode": {
        "name": "ipython",
        "version": 2
      },
      "file_extension": ".py",
      "mimetype": "text/x-python",
      "name": "python",
      "nbconvert_exporter": "python",
      "pygments_lexer": "ipython2",
      "version": "2.7.6"
    },
    "colab": {
      "provenance": [],
      "gpuType": "T4"
    },
    "accelerator": "GPU"
  },
  "nbformat": 4,
  "nbformat_minor": 5
}
